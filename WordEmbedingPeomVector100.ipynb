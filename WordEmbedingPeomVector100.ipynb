{
 "cells": [
  {
   "cell_type": "code",
   "execution_count": 1,
   "metadata": {
    "collapsed": true
   },
   "outputs": [],
   "source": [
    "# -*- coding: utf-8 -*-\n",
    "\n",
    "import os\n",
    "import re\n",
    "import time\n",
    "import codecs\n",
    "\n",
    "\n",
    "\n",
    "TIME_FORMAT = '%Y-%m-%d %H:%M:%S'\n",
    "BASE_FOLDER = os.getcwd()# os.path.abspath(os.path.dirname(__file__))\n",
    "DATA_FOLDER = os.path.join(BASE_FOLDER, 'data')\n",
    "DEFAULT_FIN = os.path.join(DATA_FOLDER, '唐诗语料库.txt')\n",
    "DEFAULT_FOUT = os.path.join(DATA_FOLDER, 'poem.txt')\n",
    "reg_noisy = re.compile('[^\\u3000-\\uffee]')\n",
    "reg_note = re.compile('(（.*）)') # Cannot deal with （） in seperate lines\n",
    "# 中文及全角标点符号(字符)是\\u3000-\\u301e\\ufe10-\\ufe19\\ufe30-\\ufe44\\ufe50-\\ufe6b\\uff01-\\uffee\n",
    "\n",
    "DEFAULT_Char2Vec = os.path.join(DATA_FOLDER, 'Char2Vec100.bin')\n",
    "print(DEFAULT_Char2Vec)"
   ]
  },
  {
   "cell_type": "markdown",
   "metadata": {},
   "source": [
    "# Test the material"
   ]
  },
  {
   "cell_type": "code",
   "execution_count": 2,
   "metadata": {
    "collapsed": false
   },
   "outputs": [
    {
     "name": "stdout",
     "output_type": "stream",
     "text": [
      "饮马长城窟行\r\n",
      "\n",
      "塞外悲风切，交河冰已结。瀚海百重波，阴山千里雪。迥戍危烽火，层峦引高节。悠悠卷旆旌，饮马出长城。寒沙连骑迹，朔吹断边声。胡尘清玉塞，羌笛韵金钲。绝漠干戈戢，车徒振原隰。都尉反龙堆，将军旋马邑。扬麾氛雾静，纪石功名立。荒裔一戎衣，灵台凯歌入。\r\n",
      "\n"
     ]
    }
   ],
   "source": [
    "def GetFirstNline(filePath, linesNumber):\n",
    "    fd = codecs.open(filePath, 'r', 'utf-8')\n",
    "    for i in range(1,linesNumber):\n",
    "        print(fd.readline())\n",
    "    fd.close()\n",
    "\n",
    "GetFirstNline(DEFAULT_FOUT, 3)"
   ]
  },
  {
   "cell_type": "code",
   "execution_count": 3,
   "metadata": {
    "collapsed": false
   },
   "outputs": [
    {
     "name": "stdout",
     "output_type": "stream",
     "text": [
      "2017-10-17 15:27:46 START\n",
      "corpus length: 3450588\n",
      "2017-10-17 15:27:46 STOP\n"
     ]
    }
   ],
   "source": [
    "print('{} START'.format(time.strftime(TIME_FORMAT)))\n",
    "text = codecs.open(DEFAULT_FOUT, 'r', 'utf-8').read()\n",
    "print('corpus length:', len(text))\n",
    "print('{} STOP'.format(time.strftime(TIME_FORMAT)))"
   ]
  },
  {
   "cell_type": "code",
   "execution_count": 4,
   "metadata": {
    "collapsed": false
   },
   "outputs": [
    {
     "name": "stdout",
     "output_type": "stream",
     "text": [
      "test corpus length: 3450588\n"
     ]
    }
   ],
   "source": [
    "#text = text[:100000]\n",
    "print('test corpus length:', len(text))"
   ]
  },
  {
   "cell_type": "code",
   "execution_count": 5,
   "metadata": {
    "collapsed": false
   },
   "outputs": [
    {
     "name": "stdout",
     "output_type": "stream",
     "text": [
      "2017-10-17 15:27:49 START\n",
      "total chars: 7504\n",
      "2017-10-17 15:27:50 STOP\n"
     ]
    }
   ],
   "source": [
    "print('{} START'.format(time.strftime(TIME_FORMAT)))\n",
    "chars = sorted(list(set(text)))\n",
    "vocab_size = len(chars)+1\n",
    "print('total chars:', vocab_size)\n",
    "print('{} STOP'.format(time.strftime(TIME_FORMAT)))"
   ]
  },
  {
   "cell_type": "code",
   "execution_count": 6,
   "metadata": {
    "collapsed": true
   },
   "outputs": [],
   "source": [
    "chars.insert(0, \"\\0\")"
   ]
  },
  {
   "cell_type": "code",
   "execution_count": 7,
   "metadata": {
    "collapsed": false
   },
   "outputs": [
    {
     "data": {
      "text/plain": [
       "'\\n\\r()13569CDFGHJLMOQXZ[]·…、。々《》ヨ一丁七万丈三上下不与丐丑专且丕世丘丙业丛东丝丞两严丧个丫中丰丱串丳临丸丹为主丽举乂乃久么义之乌乍乎乏乐乔乖乘乙九乞也习乡书买乱乳乾了予争事二于亏云互五井亘亚些亟亡亢交亥亦产亨亩享京亭亮亲亳亵亶亸亹人亿什仁仄仅仆仇今介仍从仑仓仔仕他仗付仙仝仞仡代令以仪仰仲仳价任仿企伉伊伋伍伎伏伐休众优会伛伞伟传伣伤伥伦伧伪伫伯估伴伶伸伺似伽伾但佉位低住'"
      ]
     },
     "execution_count": 7,
     "metadata": {},
     "output_type": "execute_result"
    }
   ],
   "source": [
    "''.join(chars[1:200])"
   ]
  },
  {
   "cell_type": "code",
   "execution_count": 8,
   "metadata": {
    "collapsed": true
   },
   "outputs": [],
   "source": [
    "char_indices = dict((c, i) for i, c in enumerate(chars))\n",
    "indices_char = dict((i, c) for i, c in enumerate(chars))"
   ]
  },
  {
   "cell_type": "code",
   "execution_count": 9,
   "metadata": {
    "collapsed": true
   },
   "outputs": [],
   "source": [
    "idx = [char_indices[c] for c in text]"
   ]
  },
  {
   "cell_type": "code",
   "execution_count": 10,
   "metadata": {
    "collapsed": false
   },
   "outputs": [
    {
     "data": {
      "text/plain": [
       "[7051, 7108, 6698, 1045, 4380, 5660, 2, 1, 1085, 1133]"
      ]
     },
     "execution_count": 10,
     "metadata": {},
     "output_type": "execute_result"
    }
   ],
   "source": [
    "idx[:10]"
   ]
  },
  {
   "cell_type": "code",
   "execution_count": 11,
   "metadata": {
    "collapsed": false
   },
   "outputs": [
    {
     "data": {
      "text/plain": [
       "'世岂邀名。星旂纷电举，日羽肃天行。遍野屯万骑，临原驻五营。登山麾武节，背水纵神兵。在昔戎戈动，今来宇宙平。\\r\\n入潼关\\r\\n崤函称地险，襟带壮两京。霜峰直临道，冰河'"
      ]
     },
     "execution_count": 11,
     "metadata": {},
     "output_type": "execute_result"
    }
   ],
   "source": [
    "''.join(indices_char[i] for i in idx[1000:1080])"
   ]
  },
  {
   "cell_type": "markdown",
   "metadata": {},
   "source": [
    "# import the pre-trained vector"
   ]
  },
  {
   "cell_type": "code",
   "execution_count": 12,
   "metadata": {
    "collapsed": false
   },
   "outputs": [
    {
     "name": "stderr",
     "output_type": "stream",
     "text": [
      "d:\\Anaconda3\\lib\\site-packages\\gensim-2.0.0-py3.5-win-amd64.egg\\gensim\\utils.py:860: UserWarning: detected Windows; aliasing chunkize to chunkize_serial\n",
      "  warnings.warn(\"detected Windows; aliasing chunkize to chunkize_serial\")\n"
     ]
    },
    {
     "data": {
      "text/plain": [
       "array([ 2.06856275,  2.32397461,  0.83518529,  0.46417695, -0.11634798,\n",
       "        0.1818933 , -2.56801581, -0.18342905, -1.48421717, -2.11078668,\n",
       "        0.20056053, -1.02167094, -0.21401837, -0.38561431,  0.51817751,\n",
       "       -1.16497791,  0.54224551,  0.76138306,  2.3684957 ,  0.30970663,\n",
       "       -1.3802563 , -0.38912675, -1.82215464, -0.00367989,  1.7190181 ,\n",
       "        0.98718047,  1.4421339 ,  0.40846929,  0.79540157, -0.676166  ,\n",
       "        0.08133515, -0.62718248, -1.03371155,  0.52618879,  0.42221704,\n",
       "        0.25534707,  2.0411377 , -1.3095907 ,  0.30678886, -1.51624656,\n",
       "        0.7682991 ,  0.92865288,  0.03569315,  0.47706228,  1.32932281,\n",
       "        0.60655832,  1.01979291, -0.08373014, -1.31372821, -0.71655107,\n",
       "       -0.14086835,  0.59556109, -3.27102542,  0.75412971,  0.42963707,\n",
       "       -0.34976977,  0.37323466, -0.28765142, -0.33176178, -1.06273353,\n",
       "        0.69204348, -0.56143588,  0.86933368,  0.28840253, -0.94598639,\n",
       "       -0.63443971, -0.67289799, -0.56733495, -0.60957175,  0.95562029,\n",
       "        0.53417146, -0.81318074, -1.68610132,  0.57404405,  0.62384731,\n",
       "       -0.35198978,  2.50699282,  0.46690306,  1.31229103, -1.02700114,\n",
       "       -1.44780755, -0.94855106,  0.16108763,  0.8101849 ,  1.17120028,\n",
       "       -1.76896417,  0.25730687, -0.51312464, -0.12526916,  0.29898113,\n",
       "       -0.7610212 ,  0.62285638,  1.32304406,  0.7449311 , -1.30808794,\n",
       "       -0.35870194, -0.46392658,  0.26858318, -2.1789248 , -1.12329459], dtype=float32)"
      ]
     },
     "execution_count": 12,
     "metadata": {},
     "output_type": "execute_result"
    }
   ],
   "source": [
    "\n",
    "DEFAULT_Char2Vec100 = os.path.join(DATA_FOLDER, 'Char2Vec100.bin')\n",
    "\n",
    "from gensim.models import word2vec\n",
    "import numpy as np\n",
    "\n",
    "model = word2vec.Word2Vec.load(DEFAULT_Char2Vec100)\n",
    "\n",
    "model[u'行']\n"
   ]
  },
  {
   "cell_type": "code",
   "execution_count": 13,
   "metadata": {
    "collapsed": false
   },
   "outputs": [
    {
     "name": "stdout",
     "output_type": "stream",
     "text": [
      "creating embedding matrix...\n",
      "Found 7504 word vectors.\n"
     ]
    }
   ],
   "source": [
    "print ('creating embedding matrix...')\n",
    "embedding_matrix = np.zeros((vocab_size, 100))\n",
    "\n",
    "for i, c in enumerate(chars):\n",
    "    #print(c)\n",
    "    if c in model:\n",
    "        embedding_matrix[i] = model[c]\n",
    "    # if embedding_vector is not None:\n",
    "        # words not found in embedding index will be all-zeros.\n",
    "   #     embedding_matrix[i] = embedding_vector\n",
    "\n",
    "print('Found %s word vectors.' % len(embedding_matrix))"
   ]
  },
  {
   "cell_type": "markdown",
   "metadata": {},
   "source": [
    "# Preprocess and create model"
   ]
  },
  {
   "cell_type": "code",
   "execution_count": 14,
   "metadata": {
    "collapsed": false
   },
   "outputs": [
    {
     "name": "stdout",
     "output_type": "stream",
     "text": [
      "nb sequences: 3450509\n"
     ]
    }
   ],
   "source": [
    "maxlen = 80\n",
    "sentences = []\n",
    "next_chars = []\n",
    "for i in range(0, len(idx) - maxlen+1):\n",
    "    sentences.append(idx[i: i + maxlen])\n",
    "    next_chars.append(idx[i+1: i+maxlen+1])\n",
    "print('nb sequences:', len(sentences))"
   ]
  },
  {
   "cell_type": "code",
   "execution_count": 15,
   "metadata": {
    "collapsed": false
   },
   "outputs": [
    {
     "name": "stderr",
     "output_type": "stream",
     "text": [
      "Using TensorFlow backend.\n"
     ]
    }
   ],
   "source": [
    "import numpy as np\n",
    "import keras\n",
    "from keras.layers import TimeDistributed, Activation\n",
    "from numpy.random import choice"
   ]
  },
  {
   "cell_type": "code",
   "execution_count": 16,
   "metadata": {
    "collapsed": true
   },
   "outputs": [],
   "source": [
    "\n",
    "sentences = np.concatenate([[np.array(o)] for o in sentences[:-2]])\n",
    "next_chars = np.concatenate([[np.array(o)] for o in next_chars[:-2]])"
   ]
  },
  {
   "cell_type": "code",
   "execution_count": 17,
   "metadata": {
    "collapsed": false
   },
   "outputs": [
    {
     "data": {
      "text/plain": [
       "((3450507, 80), (3450507, 80))"
      ]
     },
     "execution_count": 17,
     "metadata": {},
     "output_type": "execute_result"
    }
   ],
   "source": [
    "sentences.shape, next_chars.shape"
   ]
  },
  {
   "cell_type": "code",
   "execution_count": 18,
   "metadata": {
    "collapsed": true
   },
   "outputs": [],
   "source": [
    "n_fac = 100"
   ]
  },
  {
   "cell_type": "code",
   "execution_count": 19,
   "metadata": {
    "collapsed": true
   },
   "outputs": [],
   "source": [
    "from keras import backend as K\n",
    "from keras.utils.data_utils import get_file\n",
    "from keras.utils import np_utils\n",
    "from keras.utils.np_utils import to_categorical\n",
    "from keras.models import Sequential, Model\n",
    "from keras.layers import Input, Embedding, Reshape, merge, LSTM, Bidirectional\n",
    "from keras.layers import TimeDistributed, Activation, SimpleRNN, GRU\n",
    "from keras.layers.core import Flatten, Dense, Dropout, Lambda\n",
    "from keras.regularizers import l2, l1\n",
    "from keras.layers.normalization import BatchNormalization\n",
    "from keras.optimizers import SGD, RMSprop, Adam\n",
    "#from keras.utils.layer_utils import layer_from_config\n",
    "from keras.layers import deserialize as layer_from_config\n",
    "\n",
    "from keras.metrics import categorical_crossentropy, categorical_accuracy\n",
    "from keras.layers.convolutional import *\n",
    "from keras.preprocessing import image, sequence\n",
    "from keras.preprocessing.text import Tokenizer"
   ]
  },
  {
   "cell_type": "markdown",
   "metadata": {},
   "source": [
    "# Import the training word embedding\n"
   ]
  },
  {
   "cell_type": "code",
   "execution_count": null,
   "metadata": {
    "collapsed": true
   },
   "outputs": [],
   "source": []
  },
  {
   "cell_type": "code",
   "execution_count": 20,
   "metadata": {
    "collapsed": true
   },
   "outputs": [],
   "source": [
    "\n",
    "model=Sequential([\n",
    "        Embedding(vocab_size, n_fac, input_length=maxlen, weights=[embedding_matrix],trainable=False),\n",
    "        Bidirectional(LSTM(512, return_sequences=True, dropout=0.2, recurrent_dropout=0.2,implementation=2)),\n",
    "        Dropout(0.2),\n",
    "        Bidirectional(LSTM(512, return_sequences=True, dropout=0.2, recurrent_dropout=0.2,implementation=2)),\n",
    "        Dropout(0.2),\n",
    "        TimeDistributed(Dense(vocab_size)),\n",
    "        Activation('softmax')\n",
    "    ])   "
   ]
  },
  {
   "cell_type": "code",
   "execution_count": 21,
   "metadata": {
    "collapsed": true
   },
   "outputs": [],
   "source": [
    "model.compile(loss='sparse_categorical_crossentropy', optimizer=Adam())"
   ]
  },
  {
   "cell_type": "markdown",
   "metadata": {},
   "source": [
    "# Training"
   ]
  },
  {
   "cell_type": "code",
   "execution_count": 22,
   "metadata": {
    "collapsed": false
   },
   "outputs": [],
   "source": [
    "def print_example():\n",
    "    seed_string=u'世岂邀名。星旂纷电举，日羽肃天行。遍野屯万骑，临原驻五营。登山麾武节，背水纵神兵。在昔戎戈动，今来宇宙平。\\r\\n入潼关\\r\\n崤函称地险，襟带壮两京。霜峰直临道，冰河'\n",
    "    for i in range(640):\n",
    "        x=np.array([char_indices[c] for c in seed_string[-80:]])[np.newaxis,:]\n",
    "        preds = model.predict(x, verbose=0)[0][-1]\n",
    "        preds = preds/np.sum(preds)\n",
    "        next_char = choice(chars, p=preds)\n",
    "        seed_string = seed_string + next_char\n",
    "    print(seed_string)"
   ]
  },
  {
   "cell_type": "code",
   "execution_count": 23,
   "metadata": {
    "collapsed": false
   },
   "outputs": [
    {
     "name": "stdout",
     "output_type": "stream",
     "text": [
      "Epoch 1/1\n",
      "3450507/3450507 [==============================] - ETA: 0s - loss: 0.1421\n"
     ]
    },
    {
     "data": {
      "text/plain": [
       "<keras.callbacks.History at 0xaceee17e48>"
      ]
     },
     "execution_count": 23,
     "metadata": {},
     "output_type": "execute_result"
    }
   ],
   "source": [
    "model.fit(sentences, np.expand_dims(next_chars,-1), batch_size=200, epochs=1)"
   ]
  },
  {
   "cell_type": "code",
   "execution_count": 24,
   "metadata": {
    "collapsed": false
   },
   "outputs": [
    {
     "name": "stdout",
     "output_type": "stream",
     "text": [
      "世岂邀名。星旂纷电举，日羽肃天行。遍野屯万骑，临原驻五营。登山麾武节，背水纵神兵。在昔戎戈动，今来宇宙平。\r\n",
      "入潼关\r\n",
      "崤函称地险，襟带壮两京。霜峰直临道，冰河汉将殷。冥冥凫鹥宿，秋思遥相救。脱官逐奚词，白日复上来。怀故犹达息，相逢不见清。借行恨他事，江上望连城。\r\n",
      "少府后见寄徐州\r\n",
      "月半静离思，磈然满海来。相思入林子，昨夕洞中传。寂寞依稀减，新吟隔此心。谁知元帝国，还在一双林。\r\n",
      "秋晚蝉\r\n",
      "寒流落日宿，云雨涨来和。酒著缘棋侧，鸡村恨欲频。柳条匀尺眼，桃李水中窥。\r\n",
      "送李策士相进士\r\n",
      "我家秦留望，五千岁馀情。芳草倚苍云，寒红锦字衣。江湖千里外，苍渤水相寻。汉上秋风度，时逢玉磬游。\r\n",
      "春日辞·学士\r\n",
      "宝钗垂帐坐，舒画建池烟。汉武虽无朽，怜儒御卷神。知君几号火，乱说几梁材。山郭阴何挂，沙风不暂还。早朝平大日，花鬘六宫沙。\r\n",
      "脑饮宴张查阳道\r\n",
      "朝夕云高接，兰依雁行空。春来无限路，千古入朱门。萧条鸣廓廓，象板路似声。玉佩成尘，春景一容。相思天地宽，连榭越枝开。\r\n",
      "寄张殿司空湖南渔浦\r\n",
      "条索青苔外，登山复暗中。野亭春草遍，林鸟定难寻。景静阶追与，明君往不还。晴风摇细出，园里映芜平。\r\n",
      "送毛难国亡海上人\r\n",
      "天高书作客，一送李刀刀。知道阴松老，飘飘旋把曹。直须因背客，拾与别离心。旧路难留醉，扁舟岂易潸。\r\n",
      "身锦水渡\r\n",
      "杜陵寒镜里，行见暮山村。风飒蒹葭叠，犹闻雨露清。湛芳朝见骨，孤枕不平凉。\r\n",
      "生行\r\n",
      "嗷嗷新雨急，去年尽见来。此时人了落，逆恨是江齐。恋风欺我觉，俯仰有丹墀。\r\n",
      "喜\r\n",
      "十万霸州县，风初去豫书。年年见悲别，何必李评公。繁条将十管，隔处过人房。云近似寒水，轻烟爱露烟。红珠对不见，一把柳无愁。\r\n",
      "新丰生\r\n",
      "九陌杨花开落日，十\n"
     ]
    }
   ],
   "source": [
    "print_example()\n",
    "DEFAULT_modelweights = os.path.join(DATA_FOLDER, 'char_rnn.h5')\n",
    "model.save_weights(DEFAULT_modelweights )"
   ]
  },
  {
   "cell_type": "code",
   "execution_count": null,
   "metadata": {
    "collapsed": true
   },
   "outputs": [],
   "source": [
    "DEFAULT_modelweights = os.path.join(DATA_FOLDER, 'char_rnn.h5')\n",
    "model.load_weights(DEFAULT_modelweights )"
   ]
  },
  {
   "cell_type": "code",
   "execution_count": 44,
   "metadata": {
    "collapsed": false
   },
   "outputs": [
    {
     "name": "stdout",
     "output_type": "stream",
     "text": [
      "Epoch 1/5\n",
      "99959/99959 [==============================] - 272s - loss: 4.2686   \n",
      "Epoch 2/5\n",
      "99959/99959 [==============================] - 273s - loss: 3.5228   \n",
      "Epoch 3/5\n",
      "99959/99959 [==============================] - 277s - loss: 3.0338   \n",
      "Epoch 4/5\n",
      "99959/99959 [==============================] - 278s - loss: 2.7145   \n",
      "Epoch 5/5\n",
      "99959/99959 [==============================] - 277s - loss: 2.4891   \n"
     ]
    },
    {
     "data": {
      "text/plain": [
       "<keras.callbacks.History at 0x207d8ded7b8>"
      ]
     },
     "execution_count": 44,
     "metadata": {},
     "output_type": "execute_result"
    }
   ],
   "source": [
    "print('{} START'.format(time.strftime(TIME_FORMAT)))\n",
    "model.optimizer.lr=0.0001\n",
    "model.fit(sentences, np.expand_dims(next_chars,-1), batch_size=200, epochs=1)\n",
    "print('{} STOP'.format(time.strftime(TIME_FORMAT)))"
   ]
  },
  {
   "cell_type": "code",
   "execution_count": 45,
   "metadata": {
    "collapsed": false
   },
   "outputs": [
    {
     "name": "stdout",
     "output_type": "stream",
     "text": [
      "行。遍野屯万骑，临原驻五营。登山麾武节，背水纵神兵。在昔戎戈动，今来宇宙平。\n",
      "入潼关\n",
      "崤函乘洞律，黛锁显宫前。万壑浮云起，风调轸玉声。郊坰清广转，法乐调和风。\n",
      "唐大飨拜洛乐章·昭和\n",
      "烂俎牺荐，羞荐斯陈。黑修之牡，子器斯中。上帝配食，雍于执敬。爰容景福，永于旧章。\n",
      "郊庙歌辞·祀雨师乐章·迎俎酌献\n",
      "撰行协序，垂舞递成。鸾鸾凤舞，飘洞发旂。煌煌开御，穆穆雍雍。\n",
      "唐明堂乐章·徵音\n",
      "赫赫离精御炎陆，滔滔炽草郊开。画玉交桃养大人，谁教亿乙化殊平。\n",
      "郊庙歌辞·汉宗庙乐舞辞·忠顺\n",
      "明庭展赫，文物昭新。敬承茂典，敢择深衷。睟周历庙，载纬鸿休。\n",
      "郊庙歌辞·梁太庙乐舞辞·登歌\n",
      "既赫皇考，浚哉帝台。闓华而及，瑟彼飞香。大矣昭德，夙望明年。\n",
      "郊庙歌辞·周宗庙乐舞辞·肃顺\n",
      "恭彻祀礼，既以严禋。魏诚内庙，敢择良辰。载启其著，鸿休用职。\n",
      "郊庙\n"
     ]
    }
   ],
   "source": [
    "print_example()"
   ]
  },
  {
   "cell_type": "code",
   "execution_count": 46,
   "metadata": {
    "collapsed": true
   },
   "outputs": [],
   "source": [
    "DEFAULT_modelweights = os.path.join(DATA_FOLDER, 'char_rnn.h5')\n",
    "model.save_weights(DEFAULT_modelweights )"
   ]
  },
  {
   "cell_type": "code",
   "execution_count": 47,
   "metadata": {
    "collapsed": false
   },
   "outputs": [
    {
     "name": "stdout",
     "output_type": "stream",
     "text": [
      "Epoch 1/5\n",
      "99959/99959 [==============================] - 278s - loss: 2.3189   \n",
      "Epoch 2/5\n",
      "99959/99959 [==============================] - 278s - loss: 2.1801   \n",
      "Epoch 3/5\n",
      "99959/99959 [==============================] - 277s - loss: 2.0666   \n",
      "Epoch 4/5\n",
      "99959/99959 [==============================] - 275s - loss: 1.9676   \n",
      "Epoch 5/5\n",
      "99959/99959 [==============================] - 275s - loss: 1.8820   \n"
     ]
    },
    {
     "data": {
      "text/plain": [
       "<keras.callbacks.History at 0x20817684be0>"
      ]
     },
     "execution_count": 47,
     "metadata": {},
     "output_type": "execute_result"
    }
   ],
   "source": [
    "model.optimizer.lr=0.00001\n",
    "model.fit(sentences, np.expand_dims(next_chars,-1), batch_size=200, epochs=1)"
   ]
  },
  {
   "cell_type": "code",
   "execution_count": 48,
   "metadata": {
    "collapsed": false
   },
   "outputs": [
    {
     "name": "stdout",
     "output_type": "stream",
     "text": [
      "行。遍野屯万骑，临原驻五营。登山麾武节，背水纵神兵。在昔戎戈动，今来宇宙平。\n",
      "入潼汤\n",
      "崤函重律险，壮夫三十二。浇俗杂良霜，黄泥夜点营。凯胡氛九匣，单帐即归时。横沙何有静，谁能扫虏归。\n",
      "横吹曲辞·陇头水\n",
      "借问陇头水，今年陇头家。塞头年不见，明月竟不寐。\n",
      "横吹曲辞·关山月\n",
      "胡风月夜长，北客终无远。拂拂东飞曙，花成玉座声。草除新树地，凉吹轸离心。林黄帷阁上，砌影乱花呈。登高思遗老，含毫属昭阳。\n",
      "上巳日赐裴度之张\n",
      "端拱乘轩镜，昏开景重长。芳菲分日暮，娇罢在浮云。分枝怜菊蕊，风暖洒檀栊。\n",
      "咏小山\n",
      "近谷交萦蕊，遥峰对出莲。径细新苔树，寒山带夕华。坐此攀垂萼，今年那必寻。只辞秋雁曲，还用旧来还。\n",
      "相和歌辞·阳春曲\n",
      "妾妒白蘋浦，团扇薄时衣。初花复独好，花似绮蛾身。日暮西施望，春深不忆新。\n",
      "相和歌辞·婕妤怨\n",
      "谗谤潜来起不知，携手\n"
     ]
    }
   ],
   "source": [
    "print_example()"
   ]
  },
  {
   "cell_type": "code",
   "execution_count": null,
   "metadata": {
    "collapsed": false
   },
   "outputs": [],
   "source": []
  },
  {
   "cell_type": "code",
   "execution_count": null,
   "metadata": {
    "collapsed": false
   },
   "outputs": [],
   "source": [
    "print_example()"
   ]
  },
  {
   "cell_type": "code",
   "execution_count": 51,
   "metadata": {
    "collapsed": true
   },
   "outputs": [],
   "source": [
    "model.save_weights(DEFAULT_modelweights )"
   ]
  },
  {
   "cell_type": "markdown",
   "metadata": {},
   "source": [
    "### 用训练好了word2vec代替原来embedding layer, 在速度上有很大的提高，且词句的组织也比较好了"
   ]
  },
  {
   "cell_type": "markdown",
   "metadata": {},
   "source": [
    "### 最后在8G的GPU上，再用Bidirectional LSMT来训练，这样的希望能看到一个好的结果"
   ]
  },
  {
   "cell_type": "code",
   "execution_count": null,
   "metadata": {
    "collapsed": true
   },
   "outputs": [],
   "source": []
  }
 ],
 "metadata": {
  "anaconda-cloud": {},
  "kernelspec": {
   "display_name": "Python [default]",
   "language": "python",
   "name": "python3"
  },
  "language_info": {
   "codemirror_mode": {
    "name": "ipython",
    "version": 3
   },
   "file_extension": ".py",
   "mimetype": "text/x-python",
   "name": "python",
   "nbconvert_exporter": "python",
   "pygments_lexer": "ipython3",
   "version": "3.5.2"
  }
 },
 "nbformat": 4,
 "nbformat_minor": 2
}
