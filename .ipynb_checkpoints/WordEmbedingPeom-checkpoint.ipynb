{
 "cells": [
  {
   "cell_type": "code",
   "execution_count": 1,
   "metadata": {
    "collapsed": true
   },
   "outputs": [],
   "source": [
    "# -*- coding: utf-8 -*-\n",
    "\n",
    "import os\n",
    "import re\n",
    "import time\n",
    "import codecs\n",
    "\n",
    "\n",
    "\n",
    "TIME_FORMAT = '%Y-%m-%d %H:%M:%S'\n",
    "BASE_FOLDER = \"C:/Users/sethf/source/repos/chinesepoem/\" # os.path.abspath(os.path.dirname(__file__))\n",
    "DATA_FOLDER = os.path.join(BASE_FOLDER, 'data')\n",
    "DEFAULT_FIN = os.path.join(DATA_FOLDER, '唐诗语料库.txt')\n",
    "DEFAULT_FOUT = os.path.join(DATA_FOLDER, 'poem.txt')\n",
    "reg_noisy = re.compile('[^\\u3000-\\uffee]')\n",
    "reg_note = re.compile('(（.*）)') # Cannot deal with （） in seperate lines\n",
    "# 中文及全角标点符号(字符)是\\u3000-\\u301e\\ufe10-\\ufe19\\ufe30-\\ufe44\\ufe50-\\ufe6b\\uff01-\\uffee\n",
    "\n",
    "DEFAULT_Char2Vec = os.path.join(DATA_FOLDER, 'Char2Vec100.bin')"
   ]
  },
  {
   "cell_type": "markdown",
   "metadata": {},
   "source": [
    "# Test the material"
   ]
  },
  {
   "cell_type": "code",
   "execution_count": 3,
   "metadata": {},
   "outputs": [
    {
     "name": "stdout",
     "output_type": "stream",
     "text": [
      "饮马长城窟行\n",
      "\n",
      "塞外悲风切，交河冰已结。瀚海百重波，阴山千里雪。迥戍危烽火，层峦引高节。悠悠卷旆旌，饮马出长城。寒沙连骑迹，朔吹断边声。胡尘清玉塞，羌笛韵金钲。绝漠干戈戢，车徒振原隰。都尉反龙堆，将军旋马邑。扬麾氛雾静，纪石功名立。荒裔一戎衣，灵台凯歌入。\n",
      "\n"
     ]
    }
   ],
   "source": [
    "def GetFirstNline(filePath, linesNumber):\n",
    "    fd = codecs.open(filePath, 'r', 'utf-8')\n",
    "    for i in range(1,linesNumber):\n",
    "        print(fd.readline())\n",
    "    fd.close()\n",
    "\n",
    "GetFirstNline(DEFAULT_FOUT, 3)"
   ]
  },
  {
   "cell_type": "code",
   "execution_count": 4,
   "metadata": {},
   "outputs": [
    {
     "name": "stdout",
     "output_type": "stream",
     "text": [
      "2017-10-16 20:45:55 START\n",
      "corpus length: 3364177\n",
      "2017-10-16 20:45:55 STOP\n"
     ]
    }
   ],
   "source": [
    "print('{} START'.format(time.strftime(TIME_FORMAT)))\n",
    "text = codecs.open(DEFAULT_FOUT, 'r', 'utf-8').read()\n",
    "print('corpus length:', len(text))\n",
    "print('{} STOP'.format(time.strftime(TIME_FORMAT)))"
   ]
  },
  {
   "cell_type": "code",
   "execution_count": 5,
   "metadata": {},
   "outputs": [
    {
     "name": "stdout",
     "output_type": "stream",
     "text": [
      "test corpus length: 100000\n"
     ]
    }
   ],
   "source": [
    "text = text[:100000]\n",
    "print('test corpus length:', len(text))"
   ]
  },
  {
   "cell_type": "code",
   "execution_count": 6,
   "metadata": {},
   "outputs": [
    {
     "name": "stdout",
     "output_type": "stream",
     "text": [
      "2017-10-16 20:45:58 START\n",
      "total chars: 3826\n",
      "2017-10-16 20:45:58 STOP\n"
     ]
    }
   ],
   "source": [
    "print('{} START'.format(time.strftime(TIME_FORMAT)))\n",
    "chars = sorted(list(set(text)))\n",
    "vocab_size = len(chars)+1\n",
    "print('total chars:', vocab_size)\n",
    "print('{} STOP'.format(time.strftime(TIME_FORMAT)))"
   ]
  },
  {
   "cell_type": "code",
   "execution_count": 7,
   "metadata": {
    "collapsed": true
   },
   "outputs": [],
   "source": [
    "chars.insert(0, \"\\0\")"
   ]
  },
  {
   "cell_type": "code",
   "execution_count": 8,
   "metadata": {},
   "outputs": [
    {
     "data": {
      "text/plain": [
       "'\\n·。一丁七万丈三上下不与丑专且丕世丘业丛东丝丞两严丧个中丰丱临丸丹为主丽举乃久义之乌乍乎乏乐乔乖乘乙九也习乡书买乱乳乾了予争事二于亏云互五井亘亚亟亡交亥亦产亨亩享京亭亮亲人亿仁仆仇今介仍从仑仓他仗付仙仞代令以仪仰仲价任仿伉伊伍伎伏伐休众优会伟传伣伤伦伪伫伯估伴伶伸似但位低住佐佑体何余佛作佞佩佯佳佶佾使侁侈侍侑侔供依侠侣侧侪侬侮侯侵便促俄俎俗俘保俞俟信俦俨俩俪俭修俯俱俾倍倏倒倘候倚借倡倢倦倩值倾'"
      ]
     },
     "execution_count": 8,
     "metadata": {},
     "output_type": "execute_result"
    }
   ],
   "source": [
    "''.join(chars[1:200])"
   ]
  },
  {
   "cell_type": "code",
   "execution_count": 9,
   "metadata": {
    "collapsed": true
   },
   "outputs": [],
   "source": [
    "char_indices = dict((c, i) for i, c in enumerate(chars))\n",
    "indices_char = dict((i, c) for i, c in enumerate(chars))"
   ]
  },
  {
   "cell_type": "code",
   "execution_count": 10,
   "metadata": {
    "collapsed": true
   },
   "outputs": [],
   "source": [
    "idx = [char_indices[c] for c in text]"
   ]
  },
  {
   "cell_type": "code",
   "execution_count": 11,
   "metadata": {},
   "outputs": [
    {
     "data": {
      "text/plain": [
       "[3648, 3672, 3460, 619, 2357, 2953, 1, 632, 657, 1124]"
      ]
     },
     "execution_count": 11,
     "metadata": {},
     "output_type": "execute_result"
    }
   ],
   "source": [
    "idx[:10]"
   ]
  },
  {
   "cell_type": "code",
   "execution_count": 12,
   "metadata": {},
   "outputs": [
    {
     "data": {
      "text/plain": [
       "'行。遍野屯万骑，临原驻五营。登山麾武节，背水纵神兵。在昔戎戈动，今来宇宙平。\\n入'"
      ]
     },
     "execution_count": 12,
     "metadata": {},
     "output_type": "execute_result"
    }
   ],
   "source": [
    "''.join(indices_char[i] for i in idx[1000:1040])"
   ]
  },
  {
   "cell_type": "markdown",
   "metadata": {},
   "source": [
    "# import the pre-trained vector"
   ]
  },
  {
   "cell_type": "code",
   "execution_count": 25,
   "metadata": {},
   "outputs": [
    {
     "data": {
      "text/plain": [
       "array([-0.04007597,  1.43749964, -0.50613195,  0.30402976, -0.61863619,\n",
       "        0.86658812, -0.85327005,  1.0774374 , -1.7388643 , -0.66667581,\n",
       "        1.41951251,  1.73685801,  0.88174158, -1.08179212,  0.04298396,\n",
       "       -0.06425346,  0.70207226, -1.53141725,  0.71608716, -0.90501112,\n",
       "       -0.33681136,  0.14992777, -0.68830115, -0.19420403,  1.46785641,\n",
       "       -1.46016061, -0.05367612, -0.05942056,  0.43858421, -0.82355237,\n",
       "        1.08669186,  1.04226518, -1.23372197, -2.04672313,  0.13865796,\n",
       "        0.07540765,  1.05799055,  0.84494865,  1.86665952,  0.52074122,\n",
       "       -0.76229119,  0.08235706, -1.87348688, -1.76977718, -1.9432348 ,\n",
       "       -0.51557565, -3.51499605, -0.06386752, -2.19704294,  2.92216778], dtype=float32)"
      ]
     },
     "execution_count": 25,
     "metadata": {},
     "output_type": "execute_result"
    }
   ],
   "source": [
    "\n",
    "DEFAULT_Char2Vec50 = os.path.join(DATA_FOLDER, 'Char2Vec50.bin')\n",
    "\n",
    "from gensim.models import word2vec\n",
    "import numpy as np\n",
    "\n",
    "model = word2vec.Word2Vec.load(DEFAULT_Char2Vec50)\n",
    "\n",
    "model[u'行']\n"
   ]
  },
  {
   "cell_type": "code",
   "execution_count": 32,
   "metadata": {},
   "outputs": [
    {
     "name": "stdout",
     "output_type": "stream",
     "text": [
      "creating embedding matrix...\n",
      "Found 3826 word vectors.\n"
     ]
    }
   ],
   "source": [
    "print ('creating embedding matrix...')\n",
    "embedding_matrix = np.zeros((vocab_size, 50))\n",
    "\n",
    "for i, c in enumerate(chars):\n",
    "    #print(c)\n",
    "    if c in model:\n",
    "        embedding_matrix[i] = model[c]\n",
    "    # if embedding_vector is not None:\n",
    "        # words not found in embedding index will be all-zeros.\n",
    "   #     embedding_matrix[i] = embedding_vector\n",
    "\n",
    "print('Found %s word vectors.' % len(embedding_matrix))"
   ]
  },
  {
   "cell_type": "markdown",
   "metadata": {},
   "source": [
    "# Preprocess and create model"
   ]
  },
  {
   "cell_type": "code",
   "execution_count": 33,
   "metadata": {},
   "outputs": [
    {
     "name": "stdout",
     "output_type": "stream",
     "text": [
      "nb sequences: 99961\n"
     ]
    }
   ],
   "source": [
    "maxlen = 40\n",
    "sentences = []\n",
    "next_chars = []\n",
    "for i in range(0, len(idx) - maxlen+1):\n",
    "    sentences.append(idx[i: i + maxlen])\n",
    "    next_chars.append(idx[i+1: i+maxlen+1])\n",
    "print('nb sequences:', len(sentences))"
   ]
  },
  {
   "cell_type": "code",
   "execution_count": 34,
   "metadata": {},
   "outputs": [
    {
     "name": "stderr",
     "output_type": "stream",
     "text": [
      "Using TensorFlow backend.\n"
     ]
    }
   ],
   "source": [
    "import numpy as np\n",
    "import keras\n",
    "from keras.layers import TimeDistributed, Activation\n",
    "from numpy.random import choice"
   ]
  },
  {
   "cell_type": "code",
   "execution_count": 35,
   "metadata": {
    "collapsed": true
   },
   "outputs": [],
   "source": [
    "\n",
    "sentences = np.concatenate([[np.array(o)] for o in sentences[:-2]])\n",
    "next_chars = np.concatenate([[np.array(o)] for o in next_chars[:-2]])"
   ]
  },
  {
   "cell_type": "code",
   "execution_count": 36,
   "metadata": {},
   "outputs": [
    {
     "data": {
      "text/plain": [
       "((99959, 40), (99959, 40))"
      ]
     },
     "execution_count": 36,
     "metadata": {},
     "output_type": "execute_result"
    }
   ],
   "source": [
    "sentences.shape, next_chars.shape"
   ]
  },
  {
   "cell_type": "code",
   "execution_count": 37,
   "metadata": {
    "collapsed": true
   },
   "outputs": [],
   "source": [
    "n_fac = 50"
   ]
  },
  {
   "cell_type": "code",
   "execution_count": 38,
   "metadata": {
    "collapsed": true
   },
   "outputs": [],
   "source": [
    "from keras import backend as K\n",
    "from keras.utils.data_utils import get_file\n",
    "from keras.utils import np_utils\n",
    "from keras.utils.np_utils import to_categorical\n",
    "from keras.models import Sequential, Model\n",
    "from keras.layers import Input, Embedding, Reshape, merge, LSTM, Bidirectional\n",
    "from keras.layers import TimeDistributed, Activation, SimpleRNN, GRU\n",
    "from keras.layers.core import Flatten, Dense, Dropout, Lambda\n",
    "from keras.regularizers import l2, l1\n",
    "from keras.layers.normalization import BatchNormalization\n",
    "from keras.optimizers import SGD, RMSprop, Adam\n",
    "#from keras.utils.layer_utils import layer_from_config\n",
    "from keras.layers import deserialize as layer_from_config\n",
    "\n",
    "from keras.metrics import categorical_crossentropy, categorical_accuracy\n",
    "from keras.layers.convolutional import *\n",
    "from keras.preprocessing import image, sequence\n",
    "from keras.preprocessing.text import Tokenizer"
   ]
  },
  {
   "cell_type": "markdown",
   "metadata": {},
   "source": [
    "# Import the training word embedding\n"
   ]
  },
  {
   "cell_type": "code",
   "execution_count": null,
   "metadata": {
    "collapsed": true
   },
   "outputs": [],
   "source": []
  },
  {
   "cell_type": "code",
   "execution_count": 39,
   "metadata": {
    "collapsed": true
   },
   "outputs": [],
   "source": [
    "\n",
    "model=Sequential([\n",
    "        Embedding(vocab_size, n_fac, input_length=maxlen, weights=[embedding_matrix],trainable=False),\n",
    "        Bidirectional(LSTM(512, return_sequences=True, dropout=0.2, recurrent_dropout=0.2,implementation=2)),\n",
    "        Dropout(0.2),\n",
    "        Bidirectional(LSTM(512, return_sequences=True, dropout=0.2, recurrent_dropout=0.2,implementation=2)),\n",
    "        Dropout(0.2),\n",
    "        TimeDistributed(Dense(vocab_size)),\n",
    "        Activation('softmax')\n",
    "    ])   "
   ]
  },
  {
   "cell_type": "code",
   "execution_count": 40,
   "metadata": {
    "collapsed": true
   },
   "outputs": [],
   "source": [
    "model.compile(loss='sparse_categorical_crossentropy', optimizer=Adam())"
   ]
  },
  {
   "cell_type": "markdown",
   "metadata": {},
   "source": [
    "# Training"
   ]
  },
  {
   "cell_type": "code",
   "execution_count": 41,
   "metadata": {
    "collapsed": true
   },
   "outputs": [],
   "source": [
    "def print_example():\n",
    "    seed_string=u'行。遍野屯万骑，临原驻五营。登山麾武节，背水纵神兵。在昔戎戈动，今来宇宙平。\\n入'\n",
    "    for i in range(320):\n",
    "        x=np.array([char_indices[c] for c in seed_string[-40:]])[np.newaxis,:]\n",
    "        preds = model.predict(x, verbose=0)[0][-1]\n",
    "        preds = preds/np.sum(preds)\n",
    "        next_char = choice(chars, p=preds)\n",
    "        seed_string = seed_string + next_char\n",
    "    print(seed_string)"
   ]
  },
  {
   "cell_type": "code",
   "execution_count": 42,
   "metadata": {},
   "outputs": [
    {
     "name": "stdout",
     "output_type": "stream",
     "text": [
      "Epoch 1/1\n",
      "99959/99959 [==============================] - 328s - loss: 5.3869   \n"
     ]
    },
    {
     "data": {
      "text/plain": [
       "<keras.callbacks.History at 0x20815452748>"
      ]
     },
     "execution_count": 42,
     "metadata": {},
     "output_type": "execute_result"
    }
   ],
   "source": [
    "model.fit(sentences, np.expand_dims(next_chars,-1), batch_size=64, epochs=1)"
   ]
  },
  {
   "cell_type": "code",
   "execution_count": 43,
   "metadata": {},
   "outputs": [
    {
     "name": "stdout",
     "output_type": "stream",
     "text": [
      "行。遍野屯万骑，临原驻五营。登山麾武节，背水纵神兵。在昔戎戈动，今来宇宙平。\n",
      "入弄柳曲慢\n",
      "君言若成酌，终此惜最顾。\n",
      "相和歌辞·铜雀辞\n",
      "百二胡第头，莫间西出时。君逢焚马绝，攀双歌舞音。刘琅若主，小尽夸人。画粉丛翠。雁色辽阳。暮怜宜骨难，者争苦问田。\n",
      "横吹曲辞·阳南\n",
      "汉家若高女，绿刺云山红。悬羞失须边，用有按春看。君遇画柳，空华兰折。\n",
      "相和歌辞·古堤行\n",
      "瞩海痕不魂，共万眉胡桑。北元在北雪，黄植泪荷满。暂夜丹金滋，岂怜闲春藏。啄向雾魂起，馹声是丈缯。君可悲晖江，松月一来愁。何何如此时，三十鸢春明。青水危陵上，不古敦衣羞。青卒古当下，枝粉长新镜。想想高筠满，须延万年春。\n",
      "相和歌辞·折杨曲\n",
      "妾惜二冬空，非名行未肯。满月鸮三里，古然无云多。珮阁萦囊佩，制阶叶错风。柱启网氛圭，悠妆雁离间。\n",
      "题恭礼主五殿赐玉亭残\n",
      "夏杰真初兆，\n"
     ]
    }
   ],
   "source": [
    "print_example()"
   ]
  },
  {
   "cell_type": "code",
   "execution_count": 44,
   "metadata": {},
   "outputs": [
    {
     "name": "stdout",
     "output_type": "stream",
     "text": [
      "Epoch 1/5\n",
      "99959/99959 [==============================] - 272s - loss: 4.2686   \n",
      "Epoch 2/5\n",
      "99959/99959 [==============================] - 273s - loss: 3.5228   \n",
      "Epoch 3/5\n",
      "99959/99959 [==============================] - 277s - loss: 3.0338   \n",
      "Epoch 4/5\n",
      "99959/99959 [==============================] - 278s - loss: 2.7145   \n",
      "Epoch 5/5\n",
      "99959/99959 [==============================] - 277s - loss: 2.4891   \n"
     ]
    },
    {
     "data": {
      "text/plain": [
       "<keras.callbacks.History at 0x207d8ded7b8>"
      ]
     },
     "execution_count": 44,
     "metadata": {},
     "output_type": "execute_result"
    }
   ],
   "source": [
    "model.fit(sentences, np.expand_dims(next_chars,-1), batch_size=64, epochs=5)"
   ]
  },
  {
   "cell_type": "code",
   "execution_count": 45,
   "metadata": {},
   "outputs": [
    {
     "name": "stdout",
     "output_type": "stream",
     "text": [
      "行。遍野屯万骑，临原驻五营。登山麾武节，背水纵神兵。在昔戎戈动，今来宇宙平。\n",
      "入潼关\n",
      "崤函乘洞律，黛锁显宫前。万壑浮云起，风调轸玉声。郊坰清广转，法乐调和风。\n",
      "唐大飨拜洛乐章·昭和\n",
      "烂俎牺荐，羞荐斯陈。黑修之牡，子器斯中。上帝配食，雍于执敬。爰容景福，永于旧章。\n",
      "郊庙歌辞·祀雨师乐章·迎俎酌献\n",
      "撰行协序，垂舞递成。鸾鸾凤舞，飘洞发旂。煌煌开御，穆穆雍雍。\n",
      "唐明堂乐章·徵音\n",
      "赫赫离精御炎陆，滔滔炽草郊开。画玉交桃养大人，谁教亿乙化殊平。\n",
      "郊庙歌辞·汉宗庙乐舞辞·忠顺\n",
      "明庭展赫，文物昭新。敬承茂典，敢择深衷。睟周历庙，载纬鸿休。\n",
      "郊庙歌辞·梁太庙乐舞辞·登歌\n",
      "既赫皇考，浚哉帝台。闓华而及，瑟彼飞香。大矣昭德，夙望明年。\n",
      "郊庙歌辞·周宗庙乐舞辞·肃顺\n",
      "恭彻祀礼，既以严禋。魏诚内庙，敢择良辰。载启其著，鸿休用职。\n",
      "郊庙\n"
     ]
    }
   ],
   "source": [
    "print_example()"
   ]
  },
  {
   "cell_type": "code",
   "execution_count": 46,
   "metadata": {
    "collapsed": true
   },
   "outputs": [],
   "source": [
    "DEFAULT_modelweights = os.path.join(DATA_FOLDER, 'char_rnn.h5')\n",
    "model.save_weights(DEFAULT_modelweights )"
   ]
  },
  {
   "cell_type": "code",
   "execution_count": 47,
   "metadata": {},
   "outputs": [
    {
     "name": "stdout",
     "output_type": "stream",
     "text": [
      "Epoch 1/5\n",
      "99959/99959 [==============================] - 278s - loss: 2.3189   \n",
      "Epoch 2/5\n",
      "99959/99959 [==============================] - 278s - loss: 2.1801   \n",
      "Epoch 3/5\n",
      "99959/99959 [==============================] - 277s - loss: 2.0666   \n",
      "Epoch 4/5\n",
      "99959/99959 [==============================] - 275s - loss: 1.9676   \n",
      "Epoch 5/5\n",
      "99959/99959 [==============================] - 275s - loss: 1.8820   \n"
     ]
    },
    {
     "data": {
      "text/plain": [
       "<keras.callbacks.History at 0x20817684be0>"
      ]
     },
     "execution_count": 47,
     "metadata": {},
     "output_type": "execute_result"
    }
   ],
   "source": [
    "model.optimizer.lr=0.0001\n",
    "model.fit(sentences, np.expand_dims(next_chars,-1), batch_size=64, epochs=5)"
   ]
  },
  {
   "cell_type": "code",
   "execution_count": 48,
   "metadata": {},
   "outputs": [
    {
     "name": "stdout",
     "output_type": "stream",
     "text": [
      "行。遍野屯万骑，临原驻五营。登山麾武节，背水纵神兵。在昔戎戈动，今来宇宙平。\n",
      "入潼汤\n",
      "崤函重律险，壮夫三十二。浇俗杂良霜，黄泥夜点营。凯胡氛九匣，单帐即归时。横沙何有静，谁能扫虏归。\n",
      "横吹曲辞·陇头水\n",
      "借问陇头水，今年陇头家。塞头年不见，明月竟不寐。\n",
      "横吹曲辞·关山月\n",
      "胡风月夜长，北客终无远。拂拂东飞曙，花成玉座声。草除新树地，凉吹轸离心。林黄帷阁上，砌影乱花呈。登高思遗老，含毫属昭阳。\n",
      "上巳日赐裴度之张\n",
      "端拱乘轩镜，昏开景重长。芳菲分日暮，娇罢在浮云。分枝怜菊蕊，风暖洒檀栊。\n",
      "咏小山\n",
      "近谷交萦蕊，遥峰对出莲。径细新苔树，寒山带夕华。坐此攀垂萼，今年那必寻。只辞秋雁曲，还用旧来还。\n",
      "相和歌辞·阳春曲\n",
      "妾妒白蘋浦，团扇薄时衣。初花复独好，花似绮蛾身。日暮西施望，春深不忆新。\n",
      "相和歌辞·婕妤怨\n",
      "谗谤潜来起不知，携手\n"
     ]
    }
   ],
   "source": [
    "print_example()"
   ]
  },
  {
   "cell_type": "code",
   "execution_count": 49,
   "metadata": {},
   "outputs": [
    {
     "name": "stdout",
     "output_type": "stream",
     "text": [
      "Epoch 1/5\n",
      "99959/99959 [==============================] - 278s - loss: 1.8048   \n",
      "Epoch 2/5\n",
      "99959/99959 [==============================] - 275s - loss: 1.7379   \n",
      "Epoch 3/5\n",
      "99959/99959 [==============================] - 276s - loss: 1.6785   \n",
      "Epoch 4/5\n",
      "99959/99959 [==============================] - 273s - loss: 1.6224   \n",
      "Epoch 5/5\n",
      "99959/99959 [==============================] - 274s - loss: 1.5712   \n"
     ]
    },
    {
     "data": {
      "text/plain": [
       "<keras.callbacks.History at 0x208175c6c50>"
      ]
     },
     "execution_count": 49,
     "metadata": {},
     "output_type": "execute_result"
    }
   ],
   "source": [
    "model.optimizer.lr=0.00001\n",
    "model.fit(sentences, np.expand_dims(next_chars,-1), batch_size=64, epochs=5)"
   ]
  },
  {
   "cell_type": "code",
   "execution_count": 50,
   "metadata": {},
   "outputs": [
    {
     "name": "stdout",
     "output_type": "stream",
     "text": [
      "行。遍野屯万骑，临原驻五营。登山麾武节，背水纵神兵。在昔戎戈动，今来宇宙平。\n",
      "入潼河\n",
      "崤函称地险，襟带壮两京。云台先著美，戈门远望新。交河拥已节，寒碛古寒霜。四兵屯九服，汉赏谁封侯。功高无边山，高轼多在张。老日无声影，三春不可穷。空馀片死事，所冀渭滨中。\n",
      "琴曲歌辞·拘幽操\n",
      "目掩掩兮其凝其盲，耳肃肃兮听欲闻。天气无为兮为君王圣，厚号万国兮孕八荒。天符既出兮帝业昌，愿临明祀兮降祯祥。\n",
      "郊庙歌辞·享太庙乐章·景云舞\n",
      "景云霏烂，告我帝符。噫帝冲德，唯传重圣。格调八簋，时居积庆。懿盛，登遐休。\n",
      "郊庙歌辞·后唐宗庙乐舞辞·观成舞\n",
      "穆穆王国，奕奕神猷。毖祀圜配，上帝冲宅。\n",
      "郊庙歌辞·享章怀太子庙乐章·登歌酌鬯\n",
      "誉阐元储，寄崇明两。玉裕虽晦，铜楼可想。弦诵辍音，笙歌罢响。币帛言设，灵心不测。\n",
      "郊庙歌辞·享惠昭太子庙乐章·送神\n",
      "\n"
     ]
    }
   ],
   "source": [
    "print_example()"
   ]
  },
  {
   "cell_type": "code",
   "execution_count": 51,
   "metadata": {
    "collapsed": true
   },
   "outputs": [],
   "source": [
    "model.save_weights(DEFAULT_modelweights )"
   ]
  },
  {
   "cell_type": "markdown",
   "metadata": {},
   "source": [
    "### 用训练好了word2vec代替原来embedding layer, 在速度上有很大的提高，且词句的组织也比较好了"
   ]
  },
  {
   "cell_type": "markdown",
   "metadata": {},
   "source": [
    "### 最后在8G的GPU上，再用Bidirectional LSMT来训练，这样的希望能看到一个好的结果"
   ]
  },
  {
   "cell_type": "code",
   "execution_count": null,
   "metadata": {
    "collapsed": true
   },
   "outputs": [],
   "source": []
  }
 ],
 "metadata": {
  "kernelspec": {
   "display_name": "Python 3",
   "language": "python",
   "name": "python3"
  },
  "language_info": {
   "codemirror_mode": {
    "name": "ipython",
    "version": 3
   },
   "file_extension": ".py",
   "mimetype": "text/x-python",
   "name": "python",
   "nbconvert_exporter": "python",
   "pygments_lexer": "ipython3",
   "version": "3.6.2"
  }
 },
 "nbformat": 4,
 "nbformat_minor": 2
}
